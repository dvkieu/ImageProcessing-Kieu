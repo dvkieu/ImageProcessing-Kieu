{
  "nbformat": 4,
  "nbformat_minor": 0,
  "metadata": {
    "colab": {
      "name": "Assignment04-DangVanKieu.ipynb",
      "provenance": [],
      "collapsed_sections": []
    },
    "kernelspec": {
      "name": "python3",
      "display_name": "Python 3"
    }
  },
  "cells": [
    {
      "cell_type": "markdown",
      "metadata": {
        "id": "l3d-ruxzasmz",
        "colab_type": "text"
      },
      "source": [
        "Input Data"
      ]
    },
    {
      "cell_type": "code",
      "metadata": {
        "id": "3-ss9iIJayfC",
        "colab_type": "code",
        "colab": {}
      },
      "source": [
        "import csv \n",
        "import numpy as np \n",
        "import matplotlib.pyplot as plt \n",
        "import pandas as pd \n",
        "import torch \n",
        "import torch.nn as nn \n",
        "import torch.optim as optim \n",
        "from torch.utils.data import DataLoader, TensorDataset\n",
        "\n",
        "# Loading training data\n",
        "data = pd.read_csv(\"data_train.csv\")\n",
        "x_data_train = np.array(data.iloc[:, 0:-1]) \n",
        "y_data_train = np.array(data.iloc[:,[-1]]) \n",
        "x_train = torch.from_numpy(x_data_train).float() \n",
        "y_train = torch.from_numpy(y_data_train).float()\n",
        " \n",
        " \n",
        "# Loading testing data\n",
        "data = pd.read_csv(\"data_test.csv\")\n",
        "x_data_test = np.array(data.iloc[:, 0:-1])\n",
        "y_data_test = np.array(data.iloc[:,[-1]])\n"
      ],
      "execution_count": 0,
      "outputs": []
    },
    {
      "cell_type": "markdown",
      "metadata": {
        "id": "SPypFYo8bScM",
        "colab_type": "text"
      },
      "source": [
        "Training Data\n"
      ]
    },
    {
      "cell_type": "code",
      "metadata": {
        "id": "MuReG3h8bZQ0",
        "colab_type": "code",
        "colab": {}
      },
      "source": [
        "m = len(y_data_train) \n",
        "n = 3 \n",
        "batch_size = 50\n",
        " \n",
        "train_ds = TensorDataset(x_train, y_train) \n",
        "train_dl = DataLoader(train_ds, batch_size, shuffle=True)\n",
        " \n",
        "# Linear Regression model with 3 weights, 1 bias \n",
        "model = nn.Linear(3, 1, True) \n",
        "\n",
        "learningRate = 0.00001 \n",
        "epochs = 1000 \n",
        "losses = [] \n",
        "final_loss = 0 \n",
        "t0 = [] \n",
        "t1 = [] \n",
        "t2 = [] \n",
        "t3 = []\n",
        "\n",
        "# Initializing loss function and optimizer \n",
        "criterion = nn.MSELoss() \n",
        "optimizer = torch.optim.SGD(model.parameters(), lr = learningRate)\n",
        "\n",
        "# Training the model \n",
        "for epoch in range(epochs):  \n",
        "  for xb, xy in train_dl:    \n",
        "    y_pred = model(xb)    \n",
        "    loss = criterion(y_pred, xy)/2    \n",
        "    # print('epoch: ', epoch, '\\tloss: ', loss.item())    \n",
        "    losses.append(loss.item())    \n",
        "    optimizer.zero_grad()    \n",
        "    loss.backward()    \n",
        "    if epoch == epochs:      \n",
        "      final_loss = loss.item()    \n",
        "    optimizer.step()\n",
        "\n",
        "\n",
        " # Get model parameters  \n",
        "  for i, j in enumerate(model.parameters()):    \n",
        "   if j.requires_grad:      \n",
        "     if i == 0: # Weights        \n",
        "       t1.append(j.data.numpy()[0][0])        \n",
        "       t2.append(j.data.numpy()[0][1])        \n",
        "       t3.append(j.data.numpy()[0][2])      \n",
        "     else: # Bias\n",
        "       t0.append(j.data.item())\n",
        " "
      ],
      "execution_count": 0,
      "outputs": []
    },
    {
      "cell_type": "markdown",
      "metadata": {
        "id": "jUsyPTqPcdd9",
        "colab_type": "text"
      },
      "source": [
        "Objective Function"
      ]
    },
    {
      "cell_type": "code",
      "metadata": {
        "id": "Hi0OdWHUcjDT",
        "colab_type": "code",
        "colab": {}
      },
      "source": [
        "# Cost Function (Objective Function) \n",
        "def J(x_data, y_data, t0, t1, t2, t3):  \n",
        "  s = 0.0  \n",
        "  for i in range(m):    \n",
        "    s += (t0 + t1 * x_data[i][0] + t2 * x_data[i][1] + t3 * x_data[i][2]  - y_data[i]) ** 2\n",
        "    return s / (2 * m)\n",
        "  \n",
        "cost_train = [] \n",
        "cost_test = [] \n",
        "for i in range(len(t0)):  \n",
        " cost_train.append(J(x_data_train, y_data_train, t0[i], t1[i], t2[i], t3[i]))\n",
        " cost_test.append(J(x_data_test, y_data_test, t0[i], t1[i], t2[i], t3[i]))"
      ],
      "execution_count": 0,
      "outputs": []
    },
    {
      "cell_type": "markdown",
      "metadata": {
        "id": "sVZRC_XNc_C7",
        "colab_type": "text"
      },
      "source": [
        "Plot the results"
      ]
    },
    {
      "cell_type": "code",
      "metadata": {
        "id": "P7fRKNQvdCob",
        "colab_type": "code",
        "colab": {
          "base_uri": "https://localhost:8080/",
          "height": 497
        },
        "outputId": "574d73c7-caa8-4125-f738-bee84d463f79"
      },
      "source": [
        "# Plot θ0 ,θ1 ,θ2 ,θ3 \n",
        "plt.figure(figsize=(10, 8)) \n",
        "plt.plot(t0, color='black') \n",
        "plt.plot(t1, color='red') \n",
        "plt.plot(t2, color='blue') \n",
        "plt.plot(t3, color='green') \n",
        "plt.xlabel('iteration') \n",
        "plt.ylabel('value') \n",
        "plt.show()\n"
      ],
      "execution_count": 4,
      "outputs": [
        {
          "output_type": "display_data",
          "data": {
            "image/png": "[encoded data removed]",
            "text/plain": [
              "<Figure size 720x576 with 1 Axes>"
            ]
          },
          "metadata": {
            "tags": [],
            "needs_background": "light"
          }
        }
      ]
    }
  ]
}