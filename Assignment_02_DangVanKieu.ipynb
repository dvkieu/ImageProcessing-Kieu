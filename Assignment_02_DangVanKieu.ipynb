{
  "nbformat": 4,
  "nbformat_minor": 0,
  "metadata": {
    "colab": {
      "name": "Assignment 02-DangVanKieu.ipynb",
      "provenance": [],
      "collapsed_sections": [],
      "toc_visible": true
    },
    "kernelspec": {
      "name": "python3",
      "display_name": "Python 3"
    }
  },
  "cells": [
    {
      "cell_type": "markdown",
      "metadata": {
        "id": "rC-fMk_x53dE",
        "colab_type": "text"
      },
      "source": [
        "# Input data"
      ]
    },
    {
      "cell_type": "code",
      "metadata": {
        "id": "KNLsIAQQZ26L",
        "colab_type": "code",
        "colab": {
          "base_uri": "https://localhost:8080/",
          "height": 265
        },
        "outputId": "7278a0bb-1a57-47c5-b6e9-b94acaeffd85"
      },
      "source": [
        "import numpy as np\n",
        "import matplotlib.pyplot as plt\n",
        "\n",
        "x = np.random.random(150)\n",
        "y = 4 * x + 7 + np.random.normal(0, 1 , 150)\n",
        "y_f = 4 * x + 7\n",
        "\n",
        "plt.scatter(x, y, color='black')\n",
        "plt.plot(x, y_f, color='blue')\n",
        "plt.show()"
      ],
      "execution_count": 48,
      "outputs": [
        {
          "output_type": "display_data",
          "data": {
            "image/png": "[encoded data removed]",
            "text/plain": [
              "<Figure size 432x288 with 1 Axes>"
            ]
          },
          "metadata": {
            "tags": []
          }
        }
      ]
    },
    {
      "cell_type": "markdown",
      "metadata": {
        "id": "r0X1Ssbc6uhD",
        "colab_type": "text"
      },
      "source": [
        "# Output results\n"
      ]
    },
    {
      "cell_type": "code",
      "metadata": {
        "id": "O201Ul6vdIms",
        "colab_type": "code",
        "colab": {
          "base_uri": "https://localhost:8080/",
          "height": 265
        },
        "outputId": "b7069e7f-35ca-4e33-b311-d9b5d443b25b"
      },
      "source": [
        "import torch\n",
        "import torch.nn as nn\n",
        "\n",
        "x = x.reshape(-1, 1)\n",
        "y = y.reshape(-1, 1)\n",
        "p_x = torch.from_numpy(x).float()\n",
        "p_y = torch.from_numpy(y).float()\n",
        "\n",
        "epochs = 200\n",
        "\n",
        "model = nn.Linear(in_features=1, out_features=1, bias=True)\n",
        "criterion = torch.nn.MSELoss() \n",
        "optimizer = torch.optim.SGD(model.parameters(), lr=0.01)\n",
        "\n",
        "#Traning section\n",
        "losses = []\n",
        "final_loss= 0\n",
        "the_ta_0 = []\n",
        "the_ta_1= []\n",
        "for epoch in range(epochs): \n",
        "     # Create model parameter\n",
        "    for a, b in enumerate(model.parameters()):\n",
        "      if b.requires_grad: \n",
        "        if a == 0:\n",
        "          the_ta_0.append(b.data.item())          \n",
        "        else:\n",
        "          the_ta_1.append(b.data.item())  \n",
        "\n",
        "    predict_y = model(p_x)\n",
        "    # get loss for the predicted output\n",
        "    loss = criterion(predict_y, p_y)\n",
        "    \n",
        "    losses.append(loss.item())\n",
        "    \n",
        "    # Clear gradient buffers\n",
        "    optimizer.zero_grad()\n",
        "\n",
        "    # get gradients w.r.t to parameters\n",
        "    loss.backward()\n",
        "    \n",
        "    final_loss = loss.item()\n",
        "\n",
        "    # update parameters\n",
        "    optimizer.step()\n",
        "\n",
        "predict_y = model(p_x).float()\n",
        "\n",
        "#Energy values\n",
        "plt.scatter(x, y, color='black')\n",
        "plt.plot(p_x,predict_y.detach(),color='red')\n",
        "plt.show()"
      ],
      "execution_count": 49,
      "outputs": [
        {
          "output_type": "display_data",
          "data": {
            "image/png": "[encoded data removed]",
            "text/plain": [
              "<Figure size 432x288 with 1 Axes>"
            ]
          },
          "metadata": {
            "tags": []
          }
        }
      ]
    }
  ]
}