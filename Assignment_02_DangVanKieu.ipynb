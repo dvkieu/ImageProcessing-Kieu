{
  "nbformat": 4,
  "nbformat_minor": 0,
  "metadata": {
    "colab": {
      "name": "Assignment 02-DangVanKieu.ipynb",
      "provenance": [],
      "toc_visible": true
    },
    "kernelspec": {
      "name": "python3",
      "display_name": "Python 3"
    }
  },
  "cells": [
    {
      "cell_type": "markdown",
      "metadata": {
        "id": "rC-fMk_x53dE",
        "colab_type": "text"
      },
      "source": [
        "# Input data"
      ]
    },
    {
      "cell_type": "code",
      "metadata": {
        "id": "KNLsIAQQZ26L",
        "colab_type": "code",
        "colab": {
          "base_uri": "https://localhost:8080/",
          "height": 265
        },
        "outputId": "aafacad6-e277-411c-c71e-1e5abf5079e6"
      },
      "source": [
        "import numpy as np\n",
        "import matplotlib.pyplot as plt\n",
        "\n",
        "# Random x parameter\n",
        "x = np.random.normal(0, 3, 80)\n",
        "\n",
        "# Get y\n",
        "y = 8 * (x + np.random.normal(0, 3, 80)) + 9 \n",
        "y_real = 8 * x + 9\n",
        "\n",
        "#Print the plot\n",
        "plt.scatter(x, y, color='black')\n",
        "plt.plot(x, y_real, color='blue')\n",
        "plt.show()"
      ],
      "execution_count": 1,
      "outputs": [
        {
          "output_type": "display_data",
          "data": {
            "image/png": "[encoded data removed]",
            "text/plain": [
              "<Figure size 432x288 with 1 Axes>"
            ]
          },
          "metadata": {
            "tags": []
          }
        }
      ]
    }
  ]
}